{
 "cells": [
  {
   "cell_type": "markdown",
   "id": "a5ad45e4",
   "metadata": {},
   "source": [
    "# Image Augmentation"
   ]
  },
  {
   "cell_type": "code",
   "execution_count": 99,
   "id": "33757d44",
   "metadata": {},
   "outputs": [],
   "source": [
    "from tensorflow.keras.preprocessing.image import ImageDataGenerator"
   ]
  },
  {
   "cell_type": "code",
   "execution_count": 100,
   "id": "5cb57184",
   "metadata": {},
   "outputs": [],
   "source": [
    "train_datagen=ImageDataGenerator(rescale=1/255,zoom_range=0.2,horizontal_flip=True,vertical_flip=False)"
   ]
  },
  {
   "cell_type": "code",
   "execution_count": 101,
   "id": "efd82b16",
   "metadata": {},
   "outputs": [],
   "source": [
    "test_datagen=ImageDataGenerator(rescale=1/255)"
   ]
  },
  {
   "cell_type": "code",
   "execution_count": 102,
   "id": "8a7a48f2",
   "metadata": {},
   "outputs": [
    {
     "name": "stdout",
     "output_type": "stream",
     "text": [
      "Found 1238 images belonging to 4 classes.\n"
     ]
    }
   ],
   "source": [
    "x_train=train_datagen.flow_from_directory('C:\\GEC College\\CNN_Dataset\\Training',target_size=(64,64),class_mode='categorical',batch_size=100)"
   ]
  },
  {
   "cell_type": "code",
   "execution_count": 103,
   "id": "917d869d",
   "metadata": {},
   "outputs": [
    {
     "name": "stdout",
     "output_type": "stream",
     "text": [
      "Found 326 images belonging to 4 classes.\n"
     ]
    }
   ],
   "source": [
    "x_test=test_datagen.flow_from_directory('C:\\GEC College\\CNN_Dataset\\Testing',target_size=(64,64),class_mode='categorical',batch_size=100)"
   ]
  },
  {
   "cell_type": "code",
   "execution_count": 104,
   "id": "c318f1cc",
   "metadata": {},
   "outputs": [
    {
     "data": {
      "text/plain": [
       "{'bears': 0, 'crows': 1, 'elephants': 2, 'rats': 3}"
      ]
     },
     "execution_count": 104,
     "metadata": {},
     "output_type": "execute_result"
    }
   ],
   "source": [
    "x_train.class_indices"
   ]
  },
  {
   "cell_type": "markdown",
   "id": "c761fefe",
   "metadata": {},
   "source": [
    "# Import Libraries"
   ]
  },
  {
   "cell_type": "code",
   "execution_count": 105,
   "id": "effc61cb",
   "metadata": {},
   "outputs": [],
   "source": [
    "from tensorflow.keras.models import Sequential\n",
    "from tensorflow.keras.layers import Dense,Convolution2D,MaxPooling2D,Flatten"
   ]
  },
  {
   "cell_type": "markdown",
   "id": "294f5580",
   "metadata": {},
   "source": [
    "# Create Model"
   ]
  },
  {
   "cell_type": "code",
   "execution_count": 106,
   "id": "39adf195",
   "metadata": {},
   "outputs": [],
   "source": [
    "model=Sequential()"
   ]
  },
  {
   "cell_type": "markdown",
   "id": "7ee5f11a",
   "metadata": {},
   "source": [
    "# Add layers"
   ]
  },
  {
   "cell_type": "code",
   "execution_count": 107,
   "id": "2aef0d97",
   "metadata": {},
   "outputs": [],
   "source": [
    "model.add(Convolution2D(32,(3,3),activation='relu',input_shape=(64,64,3)))"
   ]
  },
  {
   "cell_type": "code",
   "execution_count": 16,
   "id": "63184dbe",
   "metadata": {},
   "outputs": [],
   "source": [
    "model.add(MaxPooling2D(pool_size=(2,2)))"
   ]
  },
  {
   "cell_type": "code",
   "execution_count": 108,
   "id": "ad3d1498",
   "metadata": {},
   "outputs": [],
   "source": [
    "model.add(Flatten())"
   ]
  },
  {
   "cell_type": "code",
   "execution_count": 87,
   "id": "db157191",
   "metadata": {},
   "outputs": [
    {
     "name": "stdout",
     "output_type": "stream",
     "text": [
      "Model: \"sequential_2\"\n",
      "_________________________________________________________________\n",
      "Layer (type)                 Output Shape              Param #   \n",
      "=================================================================\n",
      "conv2d_3 (Conv2D)            (None, 62, 62, 32)        896       \n",
      "_________________________________________________________________\n",
      "flatten_2 (Flatten)          (None, 123008)            0         \n",
      "=================================================================\n",
      "Total params: 896\n",
      "Trainable params: 896\n",
      "Non-trainable params: 0\n",
      "_________________________________________________________________\n"
     ]
    }
   ],
   "source": [
    "model.summary()"
   ]
  },
  {
   "cell_type": "code",
   "execution_count": 109,
   "id": "1c748d0e",
   "metadata": {},
   "outputs": [],
   "source": [
    "#hidden Layer-1\n",
    "model.add(Dense(300,activation='relu'))"
   ]
  },
  {
   "cell_type": "code",
   "execution_count": 110,
   "id": "45e9c01b",
   "metadata": {},
   "outputs": [],
   "source": [
    "#hidden Layer-2\n",
    "model.add(Dense(150,activation='relu'))"
   ]
  },
  {
   "cell_type": "code",
   "execution_count": 111,
   "id": "0237b7fa",
   "metadata": {},
   "outputs": [],
   "source": [
    "#Output Layer\n",
    "model.add(Dense(4,activation='softmax'))"
   ]
  },
  {
   "cell_type": "markdown",
   "id": "b3b40998",
   "metadata": {},
   "source": [
    "# Compile Model"
   ]
  },
  {
   "cell_type": "code",
   "execution_count": 112,
   "id": "9ebfde7d",
   "metadata": {},
   "outputs": [],
   "source": [
    "model.compile(loss='categorical_crossentropy',optimizer='adam',metrics=['accuracy'])"
   ]
  },
  {
   "cell_type": "markdown",
   "id": "55b1a4ed",
   "metadata": {},
   "source": [
    "# Fit the model"
   ]
  },
  {
   "cell_type": "code",
   "execution_count": 113,
   "id": "fcfe53b8",
   "metadata": {},
   "outputs": [
    {
     "name": "stdout",
     "output_type": "stream",
     "text": [
      "Epoch 1/10\n",
      "13/13 [==============================] - 52s 4s/step - loss: 9.4429 - accuracy: 0.2859 - val_loss: 3.4827 - val_accuracy: 0.2485\n",
      "Epoch 2/10\n",
      "13/13 [==============================] - 18s 1s/step - loss: 1.9161 - accuracy: 0.2948 - val_loss: 1.3532 - val_accuracy: 0.4141\n",
      "Epoch 3/10\n",
      "13/13 [==============================] - 18s 1s/step - loss: 1.2493 - accuracy: 0.4758 - val_loss: 1.0748 - val_accuracy: 0.5123\n",
      "Epoch 4/10\n",
      "13/13 [==============================] - 17s 1s/step - loss: 1.0044 - accuracy: 0.6082 - val_loss: 1.0896 - val_accuracy: 0.4755\n",
      "Epoch 5/10\n",
      "13/13 [==============================] - 17s 1s/step - loss: 0.8793 - accuracy: 0.6599 - val_loss: 0.6688 - val_accuracy: 0.7669\n",
      "Epoch 6/10\n",
      "13/13 [==============================] - 17s 1s/step - loss: 0.7515 - accuracy: 0.7068 - val_loss: 0.6231 - val_accuracy: 0.7393\n",
      "Epoch 7/10\n",
      "13/13 [==============================] - 18s 1s/step - loss: 0.6703 - accuracy: 0.7456 - val_loss: 0.6035 - val_accuracy: 0.7699\n",
      "Epoch 8/10\n",
      "13/13 [==============================] - 17s 1s/step - loss: 0.6240 - accuracy: 0.7714 - val_loss: 0.4676 - val_accuracy: 0.8405\n",
      "Epoch 9/10\n",
      "13/13 [==============================] - 18s 1s/step - loss: 0.5745 - accuracy: 0.7827 - val_loss: 0.5123 - val_accuracy: 0.7883\n",
      "Epoch 10/10\n",
      "13/13 [==============================] - 17s 1s/step - loss: 0.5209 - accuracy: 0.8166 - val_loss: 0.3960 - val_accuracy: 0.8589\n"
     ]
    },
    {
     "data": {
      "text/plain": [
       "<tensorflow.python.keras.callbacks.History at 0x21d99040760>"
      ]
     },
     "execution_count": 113,
     "metadata": {},
     "output_type": "execute_result"
    }
   ],
   "source": [
    "model.fit_generator(x_train,steps_per_epoch=len(x_train),epochs=10,validation_data=x_test,validation_steps=len(x_test))"
   ]
  },
  {
   "cell_type": "markdown",
   "id": "0de93c96",
   "metadata": {},
   "source": [
    "# Save  the model"
   ]
  },
  {
   "cell_type": "code",
   "execution_count": 1,
   "id": "bc2abd2d",
   "metadata": {},
   "outputs": [
    {
     "ename": "NameError",
     "evalue": "name 'model' is not defined",
     "output_type": "error",
     "traceback": [
      "\u001b[1;31m---------------------------------------------------------------------------\u001b[0m",
      "\u001b[1;31mNameError\u001b[0m                                 Traceback (most recent call last)",
      "\u001b[1;32m~\\AppData\\Local\\Temp/ipykernel_2104/3668822330.py\u001b[0m in \u001b[0;36m<module>\u001b[1;34m\u001b[0m\n\u001b[1;32m----> 1\u001b[1;33m \u001b[0mmodel\u001b[0m\u001b[1;33m.\u001b[0m\u001b[0msave\u001b[0m\u001b[1;33m(\u001b[0m\u001b[1;34m'bear.h5'\u001b[0m\u001b[1;33m)\u001b[0m\u001b[1;33m\u001b[0m\u001b[1;33m\u001b[0m\u001b[0m\n\u001b[0m",
      "\u001b[1;31mNameError\u001b[0m: name 'model' is not defined"
     ]
    }
   ],
   "source": [
    "model.save('bear.h5')"
   ]
  },
  {
   "cell_type": "markdown",
   "id": "01c7ea5a",
   "metadata": {},
   "source": [
    "# Test the Model"
   ]
  },
  {
   "cell_type": "code",
   "execution_count": 118,
   "id": "ba56827e",
   "metadata": {},
   "outputs": [],
   "source": [
    "import numpy as np\n",
    "from tensorflow.keras.models import load_model\n",
    "from tensorflow.keras.preprocessing import image"
   ]
  },
  {
   "cell_type": "code",
   "execution_count": 122,
   "id": "0c84028e",
   "metadata": {},
   "outputs": [],
   "source": [
    "model=load_model('bear.h5')\n",
    "img=image.load_img(r'C:\\GEC College\\CNN_Dataset\\Training\\bears\\9k_ (7).jpeg',target_size=(64,64))"
   ]
  },
  {
   "cell_type": "code",
   "execution_count": 123,
   "id": "e2659378",
   "metadata": {},
   "outputs": [
    {
     "data": {
      "image/png": "[encoded data removed]",
      "text/plain": [
       "<PIL.Image.Image image mode=RGB size=64x64 at 0x21D98FB5820>"
      ]
     },
     "execution_count": 123,
     "metadata": {},
     "output_type": "execute_result"
    }
   ],
   "source": [
    "img"
   ]
  },
  {
   "cell_type": "code",
   "execution_count": 124,
   "id": "73bba88a",
   "metadata": {},
   "outputs": [
    {
     "data": {
      "text/plain": [
       "{'bears': 0, 'crows': 1, 'elephants': 2, 'rats': 3}"
      ]
     },
     "execution_count": 124,
     "metadata": {},
     "output_type": "execute_result"
    }
   ],
   "source": [
    "x_train.class_indices"
   ]
  },
  {
   "cell_type": "code",
   "execution_count": 125,
   "id": "7bd3f472",
   "metadata": {},
   "outputs": [],
   "source": [
    "x=image.img_to_array(img)"
   ]
  },
  {
   "cell_type": "code",
   "execution_count": 126,
   "id": "75a89910",
   "metadata": {},
   "outputs": [
    {
     "data": {
      "text/plain": [
       "array([[[208., 140.,  13.],\n",
       "        [210., 148.,  27.],\n",
       "        [187., 126.,  37.],\n",
       "        ...,\n",
       "        [221., 162.,  24.],\n",
       "        [226., 158.,  23.],\n",
       "        [204., 145.,  19.]],\n",
       "\n",
       "       [[219., 147.,  13.],\n",
       "        [221., 156.,  12.],\n",
       "        [194., 131.,  18.],\n",
       "        ...,\n",
       "        [229., 166.,  35.],\n",
       "        [215., 149.,  11.],\n",
       "        [198., 136.,  15.]],\n",
       "\n",
       "       [[240., 167.,  26.],\n",
       "        [229., 160.,   4.],\n",
       "        [233., 166.,  26.],\n",
       "        ...,\n",
       "        [207., 141.,  21.],\n",
       "        [222., 156.,  18.],\n",
       "        [222., 160.,  41.]],\n",
       "\n",
       "       ...,\n",
       "\n",
       "       [[168., 149., 117.],\n",
       "        [165., 145., 112.],\n",
       "        [170., 148., 111.],\n",
       "        ...,\n",
       "        [172., 153., 120.],\n",
       "        [166., 140., 107.],\n",
       "        [164., 143., 114.]],\n",
       "\n",
       "       [[138., 126., 100.],\n",
       "        [147., 133., 106.],\n",
       "        [159., 144., 113.],\n",
       "        ...,\n",
       "        [155., 139., 106.],\n",
       "        [170., 147., 115.],\n",
       "        [181., 158., 126.]],\n",
       "\n",
       "       [[113., 108.,  86.],\n",
       "        [163., 157., 133.],\n",
       "        [134., 124.,  99.],\n",
       "        ...,\n",
       "        [152., 137., 104.],\n",
       "        [170., 155., 122.],\n",
       "        [168., 150., 114.]]], dtype=float32)"
      ]
     },
     "execution_count": 126,
     "metadata": {},
     "output_type": "execute_result"
    }
   ],
   "source": [
    "x"
   ]
  },
  {
   "cell_type": "code",
   "execution_count": 127,
   "id": "78511f8f",
   "metadata": {},
   "outputs": [],
   "source": [
    "x=np.expand_dims(x,axis=0)"
   ]
  },
  {
   "cell_type": "code",
   "execution_count": 66,
   "id": "a9b5e0f6",
   "metadata": {},
   "outputs": [
    {
     "data": {
      "text/plain": [
       "array([[[[107., 111.,  14.],\n",
       "         [ 93., 101.,  18.],\n",
       "         [ 90., 102.,  40.],\n",
       "         ...,\n",
       "         [ 78.,  94.,  47.],\n",
       "         [ 79.,  95.,  46.],\n",
       "         [ 73.,  94.,  55.]],\n",
       "\n",
       "        [[103., 106.,  25.],\n",
       "         [ 63.,  70.,   2.],\n",
       "         [ 72.,  82.,  29.],\n",
       "         ...,\n",
       "         [ 68.,  85.,  31.],\n",
       "         [ 42.,  59.,   4.],\n",
       "         [ 76., 103.,  10.]],\n",
       "\n",
       "        [[137., 147.,  61.],\n",
       "         [ 59.,  70.,   0.],\n",
       "         [100., 113.,  43.],\n",
       "         ...,\n",
       "         [ 67.,  85.,  25.],\n",
       "         [ 85., 103.,  45.],\n",
       "         [ 47.,  65.,  13.]],\n",
       "\n",
       "        ...,\n",
       "\n",
       "        [[190., 182.,  84.],\n",
       "         [152., 147.,  63.],\n",
       "         [144., 148.,  61.],\n",
       "         ...,\n",
       "         [165., 170.,  78.],\n",
       "         [175., 179.,  94.],\n",
       "         [169., 173.,  96.]],\n",
       "\n",
       "        [[152., 150.,  67.],\n",
       "         [139., 138.,  45.],\n",
       "         [181., 180.,  87.],\n",
       "         ...,\n",
       "         [184., 183., 100.],\n",
       "         [186., 189., 100.],\n",
       "         [169., 163.,  85.]],\n",
       "\n",
       "        [[196., 194., 111.],\n",
       "         [144., 143.,  50.],\n",
       "         [158., 157.,  64.],\n",
       "         ...,\n",
       "         [171., 170.,  87.],\n",
       "         [186., 189., 100.],\n",
       "         [172., 169.,  90.]]]], dtype=float32)"
      ]
     },
     "execution_count": 66,
     "metadata": {},
     "output_type": "execute_result"
    }
   ],
   "source": [
    "x"
   ]
  },
  {
   "cell_type": "code",
   "execution_count": 128,
   "id": "b7f95d0f",
   "metadata": {},
   "outputs": [],
   "source": [
    "pred=model.predict_classes(x)"
   ]
  },
  {
   "cell_type": "code",
   "execution_count": 69,
   "id": "c9e3816a",
   "metadata": {},
   "outputs": [
    {
     "data": {
      "text/plain": [
       "array([2], dtype=int64)"
      ]
     },
     "execution_count": 69,
     "metadata": {},
     "output_type": "execute_result"
    }
   ],
   "source": [
    "pred"
   ]
  },
  {
   "cell_type": "code",
   "execution_count": 129,
   "id": "b6f092fb",
   "metadata": {},
   "outputs": [],
   "source": [
    "index=['bears','crows','elephants','rats']"
   ]
  },
  {
   "cell_type": "code",
   "execution_count": 130,
   "id": "7038feab",
   "metadata": {},
   "outputs": [
    {
     "name": "stdout",
     "output_type": "stream",
     "text": [
      "bears\n"
     ]
    }
   ],
   "source": [
    "print(index[pred[0]])"
   ]
  },
  {
   "cell_type": "code",
   "execution_count": 131,
   "id": "21898630",
   "metadata": {},
   "outputs": [
    {
     "data": {
      "text/plain": [
       "4"
      ]
     },
     "execution_count": 131,
     "metadata": {},
     "output_type": "execute_result"
    }
   ],
   "source": [
    "x.ndim"
   ]
  },
  {
   "cell_type": "code",
   "execution_count": 132,
   "id": "7c2ee230",
   "metadata": {},
   "outputs": [
    {
     "data": {
      "text/plain": [
       "(1, 64, 64, 3)"
      ]
     },
     "execution_count": 132,
     "metadata": {},
     "output_type": "execute_result"
    }
   ],
   "source": [
    "x.shape"
   ]
  },
  {
   "cell_type": "code",
   "execution_count": null,
   "id": "4c9b8731",
   "metadata": {},
   "outputs": [],
   "source": []
  }
 ],
 "metadata": {
  "kernelspec": {
   "display_name": "Python 3 (ipykernel)",
   "language": "python",
   "name": "python3"
  },
  "language_info": {
   "codemirror_mode": {
    "name": "ipython",
    "version": 3
   },
   "file_extension": ".py",
   "mimetype": "text/x-python",
   "name": "python",
   "nbconvert_exporter": "python",
   "pygments_lexer": "ipython3",
   "version": "3.9.7"
  }
 },
 "nbformat": 4,
 "nbformat_minor": 5
}
